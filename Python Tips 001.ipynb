{
 "cells": [
  {
   "cell_type": "code",
   "execution_count": null,
   "metadata": {},
   "outputs": [],
   "source": []
  },
  {
   "cell_type": "markdown",
   "metadata": {},
   "source": [
    "### Tip 001 交換變數值\n",
    "#### 將變數 a 的值，與變數 b 的值交換"
   ]
  },
  {
   "cell_type": "code",
   "execution_count": 4,
   "metadata": {},
   "outputs": [
    {
     "name": "stdout",
     "output_type": "stream",
     "text": [
      "a=3,b=8\n",
      "\n",
      " Swap:\n",
      "a=8,b=3\n"
     ]
    }
   ],
   "source": [
    "a=3\n",
    "b=8\n",
    "print (f'a={a},b={b}')\n",
    "print('\\n Swap:')\n",
    "a,b = b,a\n",
    "print (f'a={a},b={b}')"
   ]
  },
  {
   "cell_type": "markdown",
   "metadata": {},
   "source": [
    "### Tip 002\n",
    "#### 寫一個函數，檢查一個數值是否為偶數 (enen) "
   ]
  },
  {
   "cell_type": "code",
   "execution_count": 5,
   "metadata": {},
   "outputs": [
    {
     "data": {
      "text/plain": [
       "True"
      ]
     },
     "execution_count": 5,
     "metadata": {},
     "output_type": "execute_result"
    }
   ],
   "source": [
    "def is_even(num):\n",
    "  return num % 2 == 0\n",
    "is_even(a)"
   ]
  },
  {
   "cell_type": "markdown",
   "metadata": {},
   "source": [
    "### Tip 003 Split a string"
   ]
  },
  {
   "cell_type": "code",
   "execution_count": 7,
   "metadata": {},
   "outputs": [
    {
     "data": {
      "text/plain": [
       "['50', 'python', 'snippets']"
      ]
     },
     "execution_count": 7,
     "metadata": {},
     "output_type": "execute_result"
    }
   ],
   "source": [
    "def split_lines(s):\n",
    "  return s.split('_')\n",
    "split_lines('50_python_snippets')"
   ]
  },
  {
   "cell_type": "markdown",
   "metadata": {},
   "source": [
    "#### 延伸練習：如果要拆分一整欄 (Column) 的資料："
   ]
  },
  {
   "cell_type": "code",
   "execution_count": 41,
   "metadata": {},
   "outputs": [
    {
     "name": "stdout",
     "output_type": "stream",
     "text": [
      "data:\n",
      "        S\n",
      "0  Z_N_X\n",
      "1  Q_Q_N\n",
      "2  B_D_P\n",
      "3  Y_T_A\n",
      "4  L_C_T \n",
      "\n"
     ]
    },
    {
     "data": {
      "text/html": [
       "<div>\n",
       "<style scoped>\n",
       "    .dataframe tbody tr th:only-of-type {\n",
       "        vertical-align: middle;\n",
       "    }\n",
       "\n",
       "    .dataframe tbody tr th {\n",
       "        vertical-align: top;\n",
       "    }\n",
       "\n",
       "    .dataframe thead th {\n",
       "        text-align: right;\n",
       "    }\n",
       "</style>\n",
       "<table border=\"1\" class=\"dataframe\">\n",
       "  <thead>\n",
       "    <tr style=\"text-align: right;\">\n",
       "      <th></th>\n",
       "      <th>0</th>\n",
       "      <th>1</th>\n",
       "      <th>2</th>\n",
       "    </tr>\n",
       "  </thead>\n",
       "  <tbody>\n",
       "    <tr>\n",
       "      <td>0</td>\n",
       "      <td>Z</td>\n",
       "      <td>N</td>\n",
       "      <td>X</td>\n",
       "    </tr>\n",
       "    <tr>\n",
       "      <td>1</td>\n",
       "      <td>Q</td>\n",
       "      <td>Q</td>\n",
       "      <td>N</td>\n",
       "    </tr>\n",
       "    <tr>\n",
       "      <td>2</td>\n",
       "      <td>B</td>\n",
       "      <td>D</td>\n",
       "      <td>P</td>\n",
       "    </tr>\n",
       "    <tr>\n",
       "      <td>3</td>\n",
       "      <td>Y</td>\n",
       "      <td>T</td>\n",
       "      <td>A</td>\n",
       "    </tr>\n",
       "    <tr>\n",
       "      <td>4</td>\n",
       "      <td>L</td>\n",
       "      <td>C</td>\n",
       "      <td>T</td>\n",
       "    </tr>\n",
       "  </tbody>\n",
       "</table>\n",
       "</div>"
      ],
      "text/plain": [
       "   0  1  2\n",
       "0  Z  N  X\n",
       "1  Q  Q  N\n",
       "2  B  D  P\n",
       "3  Y  T  A\n",
       "4  L  C  T"
      ]
     },
     "execution_count": 41,
     "metadata": {},
     "output_type": "execute_result"
    }
   ],
   "source": [
    "# Create a sample Dataframe\n",
    "import pandas as pd\n",
    "import numpy as np\n",
    "str1=[]\n",
    "for i in range(5):\n",
    "    character=[chr(np.random.randint(65,91)) for j in range(3)]\n",
    "    str1.append('_'.join(character)) #'separator'.jiin()\n",
    "\n",
    "data=pd.DataFrame(str1,columns=['S'])\n",
    "print(f'data:\\n {data} \\n')\n",
    "\n",
    "# Split the column\n",
    "data.S.str.split('_',expand=True)"
   ]
  },
  {
   "cell_type": "markdown",
   "metadata": {},
   "source": [
    "### Tip 004 計算出現頻率最高的元素\n",
    "#### lambda 和 key 的使用，可以另立一個完整的章節來討論"
   ]
  },
  {
   "cell_type": "code",
   "execution_count": 44,
   "metadata": {},
   "outputs": [
    {
     "data": {
      "text/plain": [
       "3"
      ]
     },
     "execution_count": 44,
     "metadata": {},
     "output_type": "execute_result"
    }
   ],
   "source": [
    "lt=[1,2,3,3,4,3,5,3]\n",
    "max(set(lt),key=lt.count)"
   ]
  },
  {
   "cell_type": "code",
   "execution_count": 55,
   "metadata": {},
   "outputs": [
    {
     "data": {
      "text/plain": [
       "3"
      ]
     },
     "execution_count": 55,
     "metadata": {},
     "output_type": "execute_result"
    }
   ],
   "source": [
    "# The above snippet is equivatlent to the following one:\n",
    "lt=[1,2,3,3,4,3,5,3]\n",
    "max(set(lt),key=lambda x:lt.count(x))"
   ]
  },
  {
   "cell_type": "markdown",
   "metadata": {},
   "source": [
    "### Tip 005 Used menory"
   ]
  },
  {
   "cell_type": "code",
   "execution_count": 34,
   "metadata": {},
   "outputs": [
    {
     "name": "stdout",
     "output_type": "stream",
     "text": [
      "28\n",
      "54\n"
     ]
    }
   ],
   "source": [
    "import sys\n",
    "print(sys.getsizeof(17500))\n",
    "print(sys.getsizeof(\"17500\"))"
   ]
  },
  {
   "cell_type": "markdown",
   "metadata": {},
   "source": [
    "### Tip 006 Reverse"
   ]
  },
  {
   "cell_type": "code",
   "execution_count": null,
   "metadata": {},
   "outputs": [],
   "source": [
    "l=list('abcdefg')\n",
    "l[::-1]"
   ]
  },
  {
   "cell_type": "markdown",
   "metadata": {},
   "source": [
    "### Tip 007 GCD (Greatest Common Divisor)"
   ]
  },
  {
   "cell_type": "code",
   "execution_count": 56,
   "metadata": {},
   "outputs": [
    {
     "data": {
      "text/plain": [
       "13"
      ]
     },
     "execution_count": 56,
     "metadata": {},
     "output_type": "execute_result"
    }
   ],
   "source": [
    "from functools import reduce\n",
    "import math\n",
    "def gcd(numbers):\n",
    "  return reduce(math.gcd, numbers)\n",
    "gcd([65,117])"
   ]
  },
  {
   "cell_type": "code",
   "execution_count": null,
   "metadata": {},
   "outputs": [],
   "source": [
    "### Tip 008 Function as a parameter - refer to tip 004"
   ]
  },
  {
   "cell_type": "code",
   "execution_count": 31,
   "metadata": {},
   "outputs": [
    {
     "data": {
      "text/plain": [
       "-5"
      ]
     },
     "execution_count": 31,
     "metadata": {},
     "output_type": "execute_result"
    }
   ],
   "source": [
    "def a (x):\n",
    "    return x**2\n",
    "\n",
    "l=[-5,-4,-3,-2,-1,0,1,2,3]\n",
    "max(l,key=a)"
   ]
  },
  {
   "cell_type": "code",
   "execution_count": 4,
   "metadata": {},
   "outputs": [
    {
     "data": {
      "text/plain": [
       "[0, -1, 1, -2, 2, -3, 3, -4, -5]"
      ]
     },
     "execution_count": 4,
     "metadata": {},
     "output_type": "execute_result"
    }
   ],
   "source": [
    "sorted(l,key=a)"
   ]
  },
  {
   "cell_type": "code",
   "execution_count": 16,
   "metadata": {},
   "outputs": [],
   "source": [
    "def bmi(x):\n",
    "    return round(x[1]/((x[0]/100)**2),2)"
   ]
  },
  {
   "cell_type": "code",
   "execution_count": 21,
   "metadata": {},
   "outputs": [
    {
     "data": {
      "text/plain": [
       "22.86"
      ]
     },
     "execution_count": 21,
     "metadata": {},
     "output_type": "execute_result"
    }
   ],
   "source": [
    "bmi ((175,70))"
   ]
  },
  {
   "cell_type": "code",
   "execution_count": 17,
   "metadata": {},
   "outputs": [
    {
     "data": {
      "text/plain": [
       "[(150, 68),\n",
       " (177, 75),\n",
       " (170, 70),\n",
       " (162, 75),\n",
       " (168, 81),\n",
       " (169, 71),\n",
       " (160, 58),\n",
       " (150, 49),\n",
       " (164, 75),\n",
       " (163, 55),\n",
       " (151, 80),\n",
       " (156, 62),\n",
       " (155, 81),\n",
       " (157, 84),\n",
       " (173, 45),\n",
       " (177, 46),\n",
       " (172, 60),\n",
       " (174, 51),\n",
       " (172, 58),\n",
       " (167, 73),\n",
       " (153, 76),\n",
       " (175, 64),\n",
       " (160, 64),\n",
       " (167, 66),\n",
       " (158, 86),\n",
       " (166, 79),\n",
       " (161, 84),\n",
       " (167, 72),\n",
       " (162, 65),\n",
       " (173, 89)]"
      ]
     },
     "execution_count": 17,
     "metadata": {},
     "output_type": "execute_result"
    }
   ],
   "source": [
    "import numpy as np\n",
    "cm=np.random.randint(150,180,30)\n",
    "kg=np.random.randint(45,90,30)\n",
    "data=list(zip(cm,kg))\n",
    "data"
   ]
  },
  {
   "cell_type": "code",
   "execution_count": 18,
   "metadata": {},
   "outputs": [
    {
     "data": {
      "text/plain": [
       "[(177, 46),\n",
       " (173, 45),\n",
       " (174, 51),\n",
       " (172, 58),\n",
       " (172, 60),\n",
       " (163, 55),\n",
       " (175, 64),\n",
       " (150, 49),\n",
       " (160, 58),\n",
       " (167, 66),\n",
       " (177, 75),\n",
       " (170, 70),\n",
       " (162, 65),\n",
       " (169, 71),\n",
       " (160, 64),\n",
       " (156, 62),\n",
       " (167, 72),\n",
       " (167, 73),\n",
       " (164, 75),\n",
       " (162, 75),\n",
       " (166, 79),\n",
       " (168, 81),\n",
       " (173, 89),\n",
       " (150, 68),\n",
       " (161, 84),\n",
       " (153, 76),\n",
       " (155, 81),\n",
       " (157, 84),\n",
       " (158, 86),\n",
       " (151, 80)]"
      ]
     },
     "execution_count": 18,
     "metadata": {},
     "output_type": "execute_result"
    }
   ],
   "source": [
    "sorted(data,key=bmi)"
   ]
  },
  {
   "cell_type": "code",
   "execution_count": 19,
   "metadata": {},
   "outputs": [
    {
     "data": {
      "text/plain": [
       "(151, 80)"
      ]
     },
     "execution_count": 19,
     "metadata": {},
     "output_type": "execute_result"
    }
   ],
   "source": [
    "max(data,key=bmi)"
   ]
  },
  {
   "cell_type": "code",
   "execution_count": 26,
   "metadata": {},
   "outputs": [],
   "source": [
    "l2=list(np.random.randint(10,25,50))"
   ]
  },
  {
   "cell_type": "code",
   "execution_count": 27,
   "metadata": {},
   "outputs": [
    {
     "data": {
      "text/plain": [
       "[10,\n",
       " 20,\n",
       " 23,\n",
       " 24,\n",
       " 22,\n",
       " 23,\n",
       " 24,\n",
       " 13,\n",
       " 12,\n",
       " 12,\n",
       " 24,\n",
       " 18,\n",
       " 16,\n",
       " 13,\n",
       " 10,\n",
       " 11,\n",
       " 22,\n",
       " 23,\n",
       " 16,\n",
       " 17,\n",
       " 17,\n",
       " 10,\n",
       " 15,\n",
       " 21,\n",
       " 17,\n",
       " 15,\n",
       " 17,\n",
       " 19,\n",
       " 10,\n",
       " 14,\n",
       " 22,\n",
       " 12,\n",
       " 10,\n",
       " 22,\n",
       " 14,\n",
       " 12,\n",
       " 18,\n",
       " 17,\n",
       " 22,\n",
       " 24,\n",
       " 11,\n",
       " 15,\n",
       " 18,\n",
       " 20,\n",
       " 20,\n",
       " 19,\n",
       " 21,\n",
       " 10,\n",
       " 13,\n",
       " 20]"
      ]
     },
     "execution_count": 27,
     "metadata": {},
     "output_type": "execute_result"
    }
   ],
   "source": [
    "l2"
   ]
  },
  {
   "cell_type": "code",
   "execution_count": 28,
   "metadata": {},
   "outputs": [
    {
     "data": {
      "text/plain": [
       "[11, 14, 16, 19, 21, 13, 15, 18, 23, 12, 20, 24, 17, 22, 10]"
      ]
     },
     "execution_count": 28,
     "metadata": {},
     "output_type": "execute_result"
    }
   ],
   "source": [
    "sorted(set(l2),key=l2.count)"
   ]
  },
  {
   "cell_type": "code",
   "execution_count": 29,
   "metadata": {},
   "outputs": [
    {
     "data": {
      "text/plain": [
       "{10, 11, 12, 13, 14, 15, 16, 17, 18, 19, 20, 21, 22, 23, 24}"
      ]
     },
     "execution_count": 29,
     "metadata": {},
     "output_type": "execute_result"
    }
   ],
   "source": [
    "set(l2)"
   ]
  },
  {
   "cell_type": "code",
   "execution_count": 30,
   "metadata": {},
   "outputs": [
    {
     "name": "stdout",
     "output_type": "stream",
     "text": [
      "no.=10 f=6\n",
      "no.=11 f=2\n",
      "no.=12 f=4\n",
      "no.=13 f=3\n",
      "no.=14 f=2\n",
      "no.=15 f=3\n",
      "no.=16 f=2\n",
      "no.=17 f=5\n",
      "no.=18 f=3\n",
      "no.=19 f=2\n",
      "no.=20 f=4\n",
      "no.=21 f=2\n",
      "no.=22 f=5\n",
      "no.=23 f=3\n",
      "no.=24 f=4\n"
     ]
    }
   ],
   "source": [
    "for i in set(l2):\n",
    "    print(f'no.={i} f={l2.count(i)}')"
   ]
  },
  {
   "cell_type": "code",
   "execution_count": null,
   "metadata": {},
   "outputs": [],
   "source": []
  }
 ],
 "metadata": {
  "kernelspec": {
   "display_name": "Python 3",
   "language": "python",
   "name": "python3"
  },
  "language_info": {
   "codemirror_mode": {
    "name": "ipython",
    "version": 3
   },
   "file_extension": ".py",
   "mimetype": "text/x-python",
   "name": "python",
   "nbconvert_exporter": "python",
   "pygments_lexer": "ipython3",
   "version": "3.7.1"
  }
 },
 "nbformat": 4,
 "nbformat_minor": 2
}
